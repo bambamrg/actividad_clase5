{
 "cells": [
  {
   "cell_type": "markdown",
   "metadata": {},
   "source": [
    "1. Calculadora Simple: Crea un programa que solicite al usuario dos números y una operación (suma, resta, multiplicación o división). Luego, utilizando estructuras condicionales (if, elif, else), realiza la operación seleccionada e imprime el resultado."
   ]
  },
  {
   "cell_type": "code",
   "execution_count": 1,
   "metadata": {},
   "outputs": [
    {
     "name": "stdout",
     "output_type": "stream",
     "text": [
      "El resultado de la operación es: 6\n"
     ]
    }
   ],
   "source": [
    "numero1 = int(input(\"Ingrese el primer número\"))\n",
    "numero2 = int(input(\"Ingrese el segundo número\"))\n",
    "tipo_operacion = input(\"¿Que operacion aritmética desea realizar?\")\n",
    "if tipo_operacion == \"suma\":\n",
    "    resultado = numero1 + numero2\n",
    "elif tipo_operacion == \"resta\":\n",
    "    resultado = numero1 - numero2\n",
    "elif tipo_operacion == \"multiplicacion\":\n",
    "    resultado = numero1 * numero2\n",
    "elif tipo_operacion == \"division\":\n",
    "    resultado = numero1 / numero2\n",
    "print(f\"El resultado de la operación es: {resultado}\")"
   ]
  },
  {
   "cell_type": "markdown",
   "metadata": {},
   "source": [
    "2. Contador de Números Pares e Impares: Escribe un programa que recorra una lista de números del 1 al 20. Utilizando un bucle for, determina cuántos de estos números son pares y cuántos son impares. Al final, imprime la cantidad de números pares e impares."
   ]
  },
  {
   "cell_type": "code",
   "execution_count": 3,
   "metadata": {},
   "outputs": [
    {
     "name": "stdout",
     "output_type": "stream",
     "text": [
      "10\n",
      "10\n"
     ]
    }
   ],
   "source": [
    "numero_par = 0\n",
    "numero_impar = 0\n",
    "for i in range(1,21):\n",
    "    if i % 2 == 0:\n",
    "        numero_par += 1\n",
    "    else:\n",
    "        numero_impar += 1\n",
    "print(numero_par)\n",
    "print(numero_impar)"
   ]
  },
  {
   "cell_type": "markdown",
   "metadata": {},
   "source": [
    "3. Validación de Contraseña: Pide al usuario que ingrese una contraseña. Utiliza un bucle while para seguir solicitando la contraseña hasta que coincida con una contraseña predefinida (por ejemplo, \"python123\"). Muestra un mensaje de éxito cuando la contraseña es correcta."
   ]
  },
  {
   "cell_type": "code",
   "execution_count": 7,
   "metadata": {},
   "outputs": [
    {
     "name": "stdout",
     "output_type": "stream",
     "text": [
      "Contraseña correcta!\n"
     ]
    }
   ],
   "source": [
    "contraseña = \"python123\"\n",
    "contraseña_usuario = input(\"Ingrese su contraseña\")\n",
    "while contraseña_usuario != contraseña:\n",
    "    contraseña_usuario = input(\"Ingrese su contraseña\")\n",
    "print(\"Contraseña correcta!\")"
   ]
  },
  {
   "cell_type": "markdown",
   "metadata": {},
   "source": [
    "4. Identificador de Números Primos: Crea un programa que solicite al usuario un número entero. Utilizando un bucle for, verifica si el número es primo (es decir, solo divisible por 1 y por sí mismo). Imprime un mensaje indicando si el número es primo o no."
   ]
  },
  {
   "cell_type": "markdown",
   "metadata": {},
   "source": [
    "5. Juego de Adivinanza: Genera un número aleatorio entre 1 y 50. Pide al usuario que adivine el número. Utiliza un bucle while para permitir múltiples intentos. Da pistas al usuario si el número ingresado es demasiado alto o bajo. Finaliza el juego cuando el usuario adivine correctamente."
   ]
  },
  {
   "cell_type": "markdown",
   "metadata": {},
   "source": [
    "6. Tabla de Multiplicar: Pide al usuario que ingrese un número entero. Utiliza un bucle for para imprimir la tabla de multiplicar de ese número del 1 al 10"
   ]
  }
 ],
 "metadata": {
  "kernelspec": {
   "display_name": "Python 3",
   "language": "python",
   "name": "python3"
  },
  "language_info": {
   "codemirror_mode": {
    "name": "ipython",
    "version": 3
   },
   "file_extension": ".py",
   "mimetype": "text/x-python",
   "name": "python",
   "nbconvert_exporter": "python",
   "pygments_lexer": "ipython3",
   "version": "3.12.0"
  }
 },
 "nbformat": 4,
 "nbformat_minor": 2
}
